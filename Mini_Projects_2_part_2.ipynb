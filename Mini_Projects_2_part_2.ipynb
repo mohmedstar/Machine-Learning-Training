{
  "nbformat": 4,
  "nbformat_minor": 0,
  "metadata": {
    "colab": {
      "name": "Mini_Projects_2/ part 2.ipynb",
      "provenance": [],
      "include_colab_link": true
    },
    "kernelspec": {
      "name": "python3",
      "display_name": "Python 3"
    }
  },
  "cells": [
    {
      "cell_type": "markdown",
      "metadata": {
        "id": "view-in-github",
        "colab_type": "text"
      },
      "source": [
        "<a href=\"https://colab.research.google.com/github/mohmedstar/Machine-Learning-Training/blob/main/Mini_Projects_2_part_2.ipynb\" target=\"_parent\"><img src=\"https://colab.research.google.com/assets/colab-badge.svg\" alt=\"Open In Colab\"/></a>"
      ]
    },
    {
      "cell_type": "markdown",
      "metadata": {
        "id": "c2sSEq3uSurn"
      },
      "source": [
        "# Files and Exceptions"
      ]
    },
    {
      "cell_type": "markdown",
      "metadata": {
        "id": "qw2XyRs-TWIF"
      },
      "source": [
        "**8. Sum of Numbers** <br>\n",
        "Assume that a file containing a series of integers is named numbers.txt and exists on the computer’s disk. Write a program that reads all of the numbers stored in the file and calculates their total.\n"
      ]
    },
    {
      "cell_type": "code",
      "metadata": {
        "id": "92EStR9KSu8N",
        "colab": {
          "base_uri": "https://localhost:8080/"
        },
        "outputId": "590f49bc-8bcf-4a55-eab6-0830a4046607"
      },
      "source": [
        "def main():\n",
        " try:\n",
        "  numberfile = open(\"numbers.txt\", \"r\") #If the file exists then it will continue, otherwise it will show an error.\n",
        " except Exception as error:\n",
        "   print(\"Error Can't Open the file\", error)\n",
        " else:\n",
        "    total = 0\n",
        "    for line in numberfile:\n",
        "     total = total + int(line)\n",
        "    print(\"The sum of the numbers is: \", total)\n",
        "    numberfile.close()\n",
        "\n",
        "main()"
      ],
      "execution_count": null,
      "outputs": [
        {
          "output_type": "stream",
          "text": [
            "Error Can't Open the file [Errno 2] No such file or directory: 'numbers.txt'\n"
          ],
          "name": "stdout"
        }
      ]
    },
    {
      "cell_type": "code",
      "metadata": {
        "id": "B7GImG_lSu-u"
      },
      "source": [
        ""
      ],
      "execution_count": null,
      "outputs": []
    },
    {
      "cell_type": "markdown",
      "metadata": {
        "id": "gW0mWcdDVgK4"
      },
      "source": [
        "**9. Average of Numbers** <br>\n",
        "Assume that a file containing a series of integers is named numbers.txt and exists on the computer’s disk. Write a program that calculates the average of all the numbers stored in\n",
        "the file"
      ]
    },
    {
      "cell_type": "code",
      "metadata": {
        "id": "3-DZx-vnSvCe",
        "colab": {
          "base_uri": "https://localhost:8080/"
        },
        "outputId": "de6589fc-5440-4326-fdaf-b691da7939d9"
      },
      "source": [
        "def main():\n",
        "  try:\n",
        "    numberfile = open(\"numbers.txt\", \"r\")\n",
        "  except IOError as error:\n",
        "    print(\"Error Can't Open the File\", error)\n",
        "  else:\n",
        "    total = 0\n",
        "    numberoflines = 0\n",
        "    line = numberfile.readline()\n",
        "    while line != \"\":\n",
        "      numberoflines += 1\n",
        "      total += int(line)\n",
        "      line = numberfile.readline()\n",
        "\n",
        "    average = total/numberoflines\n",
        "    print(\"The average of number is :\", average)\n",
        "main()"
      ],
      "execution_count": null,
      "outputs": [
        {
          "output_type": "stream",
          "text": [
            "Error Can't Open the File [Errno 2] No such file or directory: 'numbers.txt'\n"
          ],
          "name": "stdout"
        }
      ]
    },
    {
      "cell_type": "markdown",
      "metadata": {
        "id": "vjchCYETVwPx"
      },
      "source": [
        "[link text](https:// [link text](https://))**10. Random Number File Writer**<br>\n",
        "Write a program that writes a series of random numbers to a file. Each random number should be in the range of 1 \n",
        "through 500. The application should let the user specify how\n",
        "many random numbers the file will hold.\n"
      ]
    },
    {
      "cell_type": "code",
      "metadata": {
        "id": "DCyba_BZVxLF",
        "colab": {
          "base_uri": "https://localhost:8080/"
        },
        "outputId": "0792151b-75e3-4182-9e80-3efcea99eb93"
      },
      "source": [
        "import random\n",
        "def generaterandnumber():\n",
        "  randomnumber= random.randint(1, 500)\n",
        "  return randomnumber\n",
        "def main():\n",
        "  try:\n",
        "   numberofrandnumbers= int(input(\"How many numbers\" + \\\n",
        "                                  \" should the file hold? \"))\n",
        "   filewritten= open(\"randomnumbers.txt\", \"w\")\n",
        "  except Exception as error1:\n",
        "    print(\"An error has occured\", error1)\n",
        "  else:\n",
        "      for randnumbercount in range(1, numberofrandnumbers + 1):\n",
        "        randnumber1 = generaterandnumber()\n",
        "        filewritten.write( str(randnumber1)+ \"\\n\")\n",
        "      print(numberofrandnumbers, \"Have been saved\"+ \\\n",
        "             \" to the file: randomnumber.txt\")\n",
        "  finally:\n",
        "    filewritten.close()\n",
        "    print(\"\\nProgram Ended\")\n",
        "  \n",
        "main()"
      ],
      "execution_count": null,
      "outputs": [
        {
          "output_type": "stream",
          "text": [
            "How many numbers should the file hold? 300\n",
            "300 Have been saved to the file: randomnumber.txt\n",
            "\n",
            "Program Ended\n"
          ],
          "name": "stdout"
        }
      ]
    },
    {
      "cell_type": "code",
      "metadata": {
        "id": "uZ7CQJM0VxN5"
      },
      "source": [
        ""
      ],
      "execution_count": null,
      "outputs": []
    },
    {
      "cell_type": "markdown",
      "metadata": {
        "id": "p75ZKqbXWMdY"
      },
      "source": [
        "**11.  Exception Handing** <br>\n",
        "Modify the program that you wrote for Exercise 9 so it handles the following exceptions: <br>\n",
        "* It should handle any IOError exceptions that are raised when the file is opened and data\n",
        "is read from it. <br>\n",
        "* It should handle any ValueError exceptions that are raised when the items that are read from the file are converted to a number."
      ]
    },
    {
      "cell_type": "code",
      "metadata": {
        "id": "22SOHQbrVxRE",
        "colab": {
          "base_uri": "https://localhost:8080/"
        },
        "outputId": "43990d5f-0231-4603-f10d-8ab560ace759"
      },
      "source": [
        "def main():\n",
        "  try:\n",
        "    numberfile = open(\"numbers.txt\", \"r\")\n",
        "  except IOError as error:\n",
        "    print(\"Error Can't Open the File\", error)\n",
        "  else:\n",
        "    total = 0\n",
        "    numberoflines = 0\n",
        "    line = numberfile.readline()\n",
        "    try:\n",
        "     while line != \"\":\n",
        "      numberoflines += 1\n",
        "      total += int(line)\n",
        "      line = numberfile.readline()\n",
        "    except ValueError as error2:\n",
        "      print(\"Error has occured\", error2)\n",
        "    else:\n",
        "\n",
        "       average = total/numberoflines\n",
        "       print(\"The average of number is :\", average)\n",
        "main()"
      ],
      "execution_count": 2,
      "outputs": [
        {
          "output_type": "stream",
          "text": [
            "Error Can't Open the File [Errno 2] No such file or directory: 'numbers.txt'\n"
          ],
          "name": "stdout"
        }
      ]
    },
    {
      "cell_type": "code",
      "metadata": {
        "id": "3p0MENR_WrBV"
      },
      "source": [
        ""
      ],
      "execution_count": null,
      "outputs": []
    }
  ]
}